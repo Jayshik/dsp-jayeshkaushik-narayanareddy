{
 "cells": [
  {
   "cell_type": "code",
   "execution_count": 4,
   "id": "66a2d8c5",
   "metadata": {},
   "outputs": [],
   "source": [
    "import numpy as np \n"
   ]
  },
  {
   "cell_type": "code",
   "execution_count": 6,
   "id": "d5425177",
   "metadata": {},
   "outputs": [
    {
     "name": "stdout",
     "output_type": "stream",
     "text": [
      "[[45 13 93]\n",
      " [25 66 14]\n",
      " [19  3 35]\n",
      " [66 26 50]\n",
      " [51 71 71]\n",
      " [30 47 12]\n",
      " [56 26  1]\n",
      " [85 60 91]\n",
      " [94 88 54]\n",
      " [84 30 44]]\n"
     ]
    }
   ],
   "source": [
    "array_temp = np.random.randint(0, 100, size=(10, 3))\n",
    "print(array_temp)"
   ]
  },
  {
   "cell_type": "code",
   "execution_count": null,
   "id": "b78e95b6",
   "metadata": {},
   "outputs": [],
   "source": []
  }
 ],
 "metadata": {
  "kernelspec": {
   "display_name": "Python 3 (ipykernel)",
   "language": "python",
   "name": "python3"
  },
  "language_info": {
   "codemirror_mode": {
    "name": "ipython",
    "version": 3
   },
   "file_extension": ".py",
   "mimetype": "text/x-python",
   "name": "python",
   "nbconvert_exporter": "python",
   "pygments_lexer": "ipython3",
   "version": "3.9.16"
  }
 },
 "nbformat": 4,
 "nbformat_minor": 5
}
